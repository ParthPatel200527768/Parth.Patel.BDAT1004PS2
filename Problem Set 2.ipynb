{
 "cells": [
  {
   "cell_type": "markdown",
   "id": "8e8370b2",
   "metadata": {},
   "source": [
    "Question 1\n",
    "\n",
    "\n",
    "Consider the following Python module:\n",
    "a = 0 \n",
    "def b():\n",
    "global a\n",
    "a = c(a)\n",
    "def c(a):\n",
    "return a + 2\n",
    "After importing the module into the interpreter, you execute:\n",
    "\n",
    ">>> b()\n",
    ">>> b()\n",
    ">>> b()\n",
    ">>> a\n",
    "?\n",
    "\n",
    "\n",
    "What value is displayed when the last expression (a) is evaluated? Explain your Banswer by indicating what happens in every executed statement.\n"
   ]
  },
  {
   "cell_type": "code",
   "execution_count": 7,
   "id": "80aa4bc6",
   "metadata": {},
   "outputs": [
    {
     "name": "stdout",
     "output_type": "stream",
     "text": [
      "6\n"
     ]
    }
   ],
   "source": [
    "# Answer 1\n",
    "\n",
    "a = 0 # Here the variable named 'a' is assigned with the value '0'\n",
    "\n",
    "def b(): # function is created \n",
    "    global a # here the global allows you to change a variable value outside of its current scope means it allows the variable 'a' to be changed outside the function 'b()'\n",
    "    a = c(a) # Assigning value of 'a' to fun c(a)\n",
    "    \n",
    "def c(a):\n",
    "    return a+2 # this thing will be executed\n",
    "\n",
    "b() # here '2' will be added in a, means 2+0 = 2\n",
    "b() # here '2' will be added in a, which is now 2 means 2+2 = 4\n",
    "b() # here '2' will be added in a, which is now 4 means 2+4 = 6\n",
    "print(a)\n"
   ]
  },
  {
   "cell_type": "markdown",
   "id": "3e8b9a0a",
   "metadata": {},
   "source": [
    "Question 2\n",
    "\n",
    "\n",
    "Function fileLength(), given to you, takes the name of a file as input and returns \n",
    "the length of the file:\n",
    "\n",
    ">>> fileLength('midterm.py') \n",
    "284\n",
    ">>> fileLength('idterm.py') \n",
    "Traceback (most recent call last):\n",
    "File \"<pyshell#34>\", line 1, in <module> \n",
    "    \n",
    "fileLength('idterm.py')\n",
    "File \"/Users/me/midterm.py\", line 3, in fileLength \n",
    "infile = open(filename)\n",
    "FileNotFoundError: [Errno 2] No such file or directory: \n",
    "'idterm.py'\n",
    "As shown above, if the file cannot be found by the interpreter or if it cannot be read \n",
    "as a text file, an exception will be raised. Modify function fileLength() so that a \n",
    "friendly message is printed instead:\n",
    ">>> fileLength('midterm.py') \n",
    "358\n",
    ">>> fileLength('idterm.py') \n",
    "File idterm.py not found"
   ]
  },
  {
   "cell_type": "code",
   "execution_count": 16,
   "id": "be66310a",
   "metadata": {},
   "outputs": [
    {
     "name": "stdout",
     "output_type": "stream",
     "text": [
      "The total number of characters in file are: 123\n"
     ]
    }
   ],
   "source": [
    "# Answer 2 -Done\n",
    "\n",
    "def fileLength(file):\n",
    "    try: # if the function finds the file\n",
    "        with open(file, 'r') as file:\n",
    "            # lines = 0\n",
    "            # words = 0\n",
    "            characters = 0\n",
    "            for line in file:\n",
    "                wordslist = line.split() # spliting word present in character\n",
    "                #     lines = lines + 1\n",
    "                #     words = words + len(wordslist)\n",
    "                characters = characters + len(line)\n",
    "            # print(lines)\n",
    "            # print(words)\n",
    "            print(\"The total number of characters in file are:\",characters)\n",
    "            \n",
    "    # If the file not found\n",
    "    except(FileNotFoundError, IsADirectoryError):\n",
    "        print(f\"File {file} not found\")\n",
    "    # If the extension not match\n",
    "    except UnicodeDecoderError:\n",
    "        print(\"Naah\")\n",
    "        \n",
    "fileLength(\"midterm.txt\")"
   ]
  },
  {
   "cell_type": "markdown",
   "id": "f9633a2c",
   "metadata": {},
   "source": [
    "Question 3\n",
    "\n",
    "Write a class named Marsupial that can be used as shown below:\n",
    ">>> m = Marsupial()\n",
    ">>> m.put_in_pouch('doll')\n",
    ">>> m.put_in_pouch('firetruck')\n",
    ">>> m.put_in_pouch('kitten')\n",
    ">>> m.pouch_contents() \n",
    "\n",
    "\n",
    "['doll', 'firetruck', 'kitten']\n",
    "\n",
    "Now write a class named Kangaroo as a subclass of Marsupial that inherits all the \n",
    "attributes of Marsupial and also:\n",
    "a. extends the Marsupial __init__ constructor to take, as input, the\n",
    "coordinates x and y of the Kangaroo object,\n",
    "b. supports method jump that takes number values dx and dy as input and \n",
    "movesthe kangaroo by dx units along the x-axis and by dy units along the y\u0002axis, and\n",
    "c. overloads the __str__ operator so it behaves as shown below.\n",
    "\n",
    ">>> k = Kangaroo(0,0)\n",
    ">>> print(k)\n",
    "I am a Kangaroo located at coordinates (0,0)\n",
    ">>> k.put_in_pouch('doll')\n",
    ">>> k.put_in_pouch('firetruck')\n",
    ">>> k.put_in_pouch('kitten')\n",
    ">>> k.pouch_contents() \n",
    "\n",
    "['doll', 'firetruck', 'kitten']\n",
    "\n",
    ">>> k.jump(1,0)\n",
    ">>> k.jump(1,0)\n",
    ">>> k.jump(1,0)\n",
    ">>> print(k)\n",
    "I am a Kangaroo located at coordinates (3,0)"
   ]
  },
  {
   "cell_type": "code",
   "execution_count": 36,
   "id": "23d04893",
   "metadata": {},
   "outputs": [
    {
     "name": "stdout",
     "output_type": "stream",
     "text": [
      "['doll', 'firetruck', 'kitten']\n",
      "I am a Kangaroo located at coordinates (0,0)\n",
      "['doll', 'firetruck', 'kitten', 'doll', 'firetruck', 'kitten']\n",
      "I am a Kangaroo located at coordinates (3,0)\n"
     ]
    }
   ],
   "source": [
    "# Answer 3\n",
    "\n",
    "class Marsupial:\n",
    "    content = []\n",
    "    \n",
    "    def put_in_pouch(x, data):\n",
    "        x.content.append(data)    \n",
    "    \n",
    "    \n",
    "    def pouch_contents(x):\n",
    "        print(x.content)\n",
    "    \n",
    "\n",
    "\n",
    "class Kangaroo(Marsupial):\n",
    "\n",
    "    def __init__(self, X_Cor, Y_Cor):\n",
    "        self.X_Cor = X_Cor\n",
    "        self.Y_Cor = Y_Cor\n",
    "\n",
    "    \n",
    "    def __str__(self):\n",
    "        return f\"I am a Kangaroo located at coordinates ({self.X_Cor},{self.Y_Cor})\"\n",
    "    \n",
    "    def jump(self,x,y):\n",
    "        self.X_Cor = self.X_Cor + x\n",
    "        self.Y_Cor = self.Y_Cor + y\n",
    "    \n",
    "\n",
    "m = Marsupial()\n",
    "m.put_in_pouch(\"doll\")\n",
    "m.put_in_pouch(\"firetruck\")\n",
    "m.put_in_pouch(\"kitten\")\n",
    "m.pouch_contents()\n",
    "\n",
    "\n",
    "k = Kangaroo(0,0)\n",
    "print(k)\n",
    "\n",
    "k.put_in_pouch(\"doll\")\n",
    "k.put_in_pouch(\"firetruck\")\n",
    "k.put_in_pouch(\"kitten\")\n",
    "k.pouch_contents()\n",
    "\n",
    "k.jump(1,0)\n",
    "k.jump(1,0)\n",
    "k.jump(1,0)\n",
    "print(k)\n",
    "\n"
   ]
  },
  {
   "cell_type": "markdown",
   "id": "36e39316",
   "metadata": {},
   "source": [
    "Question 4\n",
    "\n",
    "Write function collatz() that takes a positive integer x as input and prints the \n",
    "Collatz sequence starting at x. A Collatz sequence is obtained by repeatedly applying \n",
    "this rule to the previous number x in the sequence:\n",
    "x = {\n",
    "𝑥/2 𝑖𝑓 𝑥 𝑖𝑠 𝑒𝑣𝑒𝑛3𝑥\n",
    "+1 𝑖𝑓 𝑥 𝑖𝑠 𝑜𝑑𝑑\n",
    "    \n",
    "Your function should stop when the sequence gets to number 1. Your \n",
    "implementation must be recursive, without any loops.\n",
    "\n",
    ">>> collatz(1) \n",
    "1\n",
    ">>> collatz(10) \n",
    "10\n",
    "5\n",
    "16\n",
    "8\n",
    "4\n",
    "2\n",
    "1"
   ]
  },
  {
   "cell_type": "code",
   "execution_count": 17,
   "id": "17249dfb",
   "metadata": {},
   "outputs": [
    {
     "name": "stdout",
     "output_type": "stream",
     "text": [
      "1\n",
      "10\n",
      "5.0\n",
      "16.0\n",
      "8.0\n",
      "4.0\n",
      "2.0\n",
      "1.0\n"
     ]
    }
   ],
   "source": [
    "# Answer 4 \n",
    "\n",
    "def collatz(number): # define function\n",
    "    \n",
    "    # if number is equal to 1\n",
    "    if(number==1):\n",
    "        print(number)\n",
    "        \n",
    "    # for even number\n",
    "    elif(number%2 == 0):\n",
    "        print(number)\n",
    "        number = number/2\n",
    "        collatz(number)\n",
    "        \n",
    "    # for odd number\n",
    "    else:\n",
    "        print(number)\n",
    "        number = (number*3)+1\n",
    "        collatz(number)\n",
    "\n",
    "collatz(1)\n",
    "collatz(10)"
   ]
  },
  {
   "cell_type": "markdown",
   "id": "a18d8bef",
   "metadata": {},
   "source": [
    "Question 5\n",
    "\n",
    "Write a recursive method binary() that takes a non-negative \n",
    "integer n and prints the binary representation of integer n.\n",
    "\n",
    ">>> binary(0)\n",
    "0\n",
    ">>> binary(1)\n",
    "1\n",
    ">>> binary(3) \n",
    "11\n",
    ">>> binary(9) \n",
    "1001"
   ]
  },
  {
   "cell_type": "code",
   "execution_count": 18,
   "id": "d9aa1ca9",
   "metadata": {},
   "outputs": [
    {
     "name": "stdout",
     "output_type": "stream",
     "text": [
      "0\n",
      "1\n",
      "11\n",
      "1001\n"
     ]
    }
   ],
   "source": [
    "# Answer 5\n",
    "def decimal_to_binary(decimal):\n",
    "    \n",
    "    # Default declaration for 0\n",
    "    if decimal == 0:\n",
    "        return \"0\"\n",
    "    \n",
    "    # Default declaration for 1\n",
    "    elif decimal == 1:\n",
    "        return \"1\"\n",
    "    \n",
    "    # applying formula for decimal to binary conversion\n",
    "    else:\n",
    "        binary = decimal_to_binary(decimal // 2)\n",
    "        return binary + str(decimal % 2)\n",
    "\n",
    "\n",
    "def binary(num):\n",
    "\n",
    "    binary_Data = decimal_to_binary(num)\n",
    "    print(binary_Data)\n",
    "\n",
    "binary(0)\n",
    "binary(1)\n",
    "binary(3)\n",
    "binary(9)"
   ]
  },
  {
   "cell_type": "markdown",
   "id": "56e02121",
   "metadata": {},
   "source": [
    "Question 6\n",
    "\n",
    "Implement a class named HeadingParser that can be used to parse an HTML \n",
    "document, and retrieve and print all the headings in the document. You should \n",
    "implement your class as a subclass of HTMLParser, defined in Standard Library \n",
    "module html.parser. When fed a string containing HTML code, your class should \n",
    "print the headings, one per line and in the order in which they appear in the \n",
    "document.Each heading should be indented asfollows: an h1 heading should have\n",
    "indentation 0, and h2 heading should have indentation 1, etc. Test your \n",
    "implementation using w3c.html.\n",
    "\n",
    ">>> infile = open('w3c.html')\n",
    ">>> content = infile.read()\n",
    ">>> infile.close()\n",
    ">>> hp = HeadingParser()\n",
    ">>> hp.feed(content) \n",
    "W3C Mission \n",
    "Principles"
   ]
  },
  {
   "cell_type": "code",
   "execution_count": 20,
   "id": "40a00b94",
   "metadata": {},
   "outputs": [
    {
     "name": "stdout",
     "output_type": "stream",
     "text": [
      "head  : 5\n",
      "h1  : 0\n",
      "h2  : 1\n",
      "h3  : 2\n",
      "h4  : 3\n",
      "html  : 5\n"
     ]
    }
   ],
   "source": [
    "# Answer 6 \n",
    "from html.parser import HTMLParser\n",
    "\n",
    "class HeadingParser(HTMLParser):\n",
    "    def __init__(self):\n",
    "        super().__init__()\n",
    "        self.headings = []\n",
    "\n",
    "    def handle_starttag(self, tag, attribute):\n",
    "        if tag.startswith('h'):\n",
    "            self.headings.append(tag)\n",
    "\n",
    "    def handle_endtag(self, tag):\n",
    "        if tag.startswith('h'):\n",
    "            heading = self.headings.pop()\n",
    "            if(heading == 'h1'):\n",
    "                print(heading, \" : 0\")\n",
    "            elif(heading == 'h2'):\n",
    "                print(heading, ' : 1')\n",
    "            elif(heading == 'h3'):\n",
    "                print(heading, ' : 2')\n",
    "            elif(heading == 'h4'):\n",
    "                print(heading, ' : 3')\n",
    "            elif(heading == 'h5'):\n",
    "                print(heading, ' : 4')\n",
    "            else:\n",
    "                print(heading, ' : 5')\n",
    "\n",
    "\n",
    "\n",
    "if __name__ == '__main__':\n",
    "    with open('w3c.html') as f:\n",
    "        parser = HeadingParser()\n",
    "        parser.feed(f.read())\n",
    "\n",
    "\n",
    "\n",
    "\n",
    "\n",
    "# from html.parser import HTMLParser\n",
    "\n",
    "# class HeadingParser(HTMLParser):\n",
    "#     print(\"HTMLParser\")\n",
    "#     def __init__(self):\n",
    "#         super().__init__()\n",
    "#         self.heading_level = 0\n",
    "\n",
    "#     def handle_starttag(self, tag, attrs):\n",
    "#         if tag.startswith('h'):\n",
    "#             print(\"Found the tag\")\n",
    "#             self.heading_level = int(tag[1])\n",
    "    \n",
    "#     def handle_endtag(self, tag):\n",
    "#         if tag.startswith('h'):\n",
    "#             self.heading_level = 0\n",
    "    \n",
    "#     def handle_data(self, data):\n",
    "#         if self.heading_level:\n",
    "#             print(' ' * (self.heading_level - 1) + data)\n",
    "\n",
    "# if __name__ == '__main__':\n",
    "#     with open('w3c.html', 'r') as f:\n",
    "#         html_data = f.read()\n",
    "#     parser = HeadingParser()\n",
    "#     parser.feed(html_data)"
   ]
  },
  {
   "cell_type": "markdown",
   "id": "9755ff37",
   "metadata": {},
   "source": [
    "Question 7\n",
    "\n",
    "Implement recursive function webdir() that takes as input: a URL (as a string) and \n",
    "non-negative integers depth and indent. Your function should visit every web \n",
    "page reachable from the starting URL web page in depth clicks or less, and print \n",
    "each web page's URL. As shown below, indentation, specified by indent, should \n",
    "be used to indicate the depth of a URL.\n",
    ">>>\n",
    "webdir('http://reed.cs.depaul.edu/lperkovic/csc242/test1.html'\n",
    ", 2, 0)\n",
    "http://reed.cs.depaul.edu/lperkovic/csc242/test1.html\n",
    "http://reed.cs.depaul.edu/lperkovic/csc242/test2.html\n",
    "http://reed.cs.depaul.edu/lperkovic/csc242/test4.html\n",
    "http://reed.cs.depaul.edu/lperkovic/csc242/test3.html\n",
    "http://reed.cs.depaul.edu/lperkovic/csc242/test4.html"
   ]
  },
  {
   "cell_type": "code",
   "execution_count": 6,
   "id": "3311bf12",
   "metadata": {},
   "outputs": [],
   "source": [
    "# Answer 7\n",
    "\n",
    "# importing the required libraries \n",
    "import urllib.request\n",
    "from urllib.parse import urljoin\n",
    "from bs4 import BeautifulSoup\n",
    "\n",
    "def webdir(url, depth, indent):\n",
    "    if depth == 0:\n",
    "        return\n",
    "    try:\n",
    "        page = urllib.request.urlopen(url)\n",
    "    except:\n",
    "        return\n",
    "\n",
    "    soup = BeautifulSoup(page, 'html.parser') # it is used to handle html or xml formatted file\n",
    "\n",
    "    for link in soup.find_all('a'):\n",
    "        href = link.get('href')\n",
    "        if href.startswith('http'):\n",
    "            print(' ' * indent + href)\n",
    "            webdir(href, depth-1, indent+1)\n",
    "        else:\n",
    "            abs_url = urljoin(url, href)\n",
    "            print(' ' * indent + abs_url)\n",
    "            webdir(abs_url, depth-1, indent+1)\n",
    "\n",
    "\n",
    "webdir('http://reed.cs.depaul.edu/lperkovic/csc242/test1.html', 2, 0) # finding out the url having the depth of 2!!"
   ]
  },
  {
   "cell_type": "markdown",
   "id": "0b453e81",
   "metadata": {},
   "source": [
    "Question 9\n",
    "\n",
    "\n",
    ". Suppose list words is defined as follows:\n",
    ">>> words = ['The', 'quick', 'brown', 'fox', 'jumps', 'over', \n",
    "'the', 'lazy', 'dog']\n",
    "Write list comprehension expressions that use list words and generate the following \n",
    "lists:\n",
    "\n",
    "a) ['THE', 'QUICK', 'BROWN', 'FOX', 'JUMPS', 'OVER', 'THE', \n",
    "'LAZY', 'DOG']\n",
    "\n",
    "b) ['the', 'quick', 'brown', 'fox', 'jumps', 'over', 'the', \n",
    "'lazy', 'dog']\n",
    "\n",
    "c) [3, 5, 5, 3, 5, 4, 3, 4, 3] (the list of lengths of words in list\n",
    "words).\n",
    "\n",
    "d) [['THE', 'the', 3], ['QUICK', 'quick', 5], ['BROWN',\n",
    "'brown', 5], ['FOX', 'fox', 3], ['JUMPS', 'jumps', 5],\n",
    "['OVER', 'over', 4], ['THE', 'the', 3], ['LAZY', 'lazy',\n",
    "4], ['DOG', 'dog', 3]] (the list containing a list for every word of list \n",
    "words, where each list contains the word in uppercase and lowercase and the \n",
    "length of the word.)\n",
    "\n",
    "e) ['The', 'quick', 'brown', 'fox', 'jumps', 'over', 'the', \n",
    "'lazy', 'dog'] (the list of words in list words containing 4 or more \n",
    "characters."
   ]
  },
  {
   "cell_type": "code",
   "execution_count": 3,
   "id": "ba9e9f6f",
   "metadata": {},
   "outputs": [
    {
     "name": "stdout",
     "output_type": "stream",
     "text": [
      "['THE', 'QUICK', 'BROWN', 'FOX', 'JUMPS', 'OVER', 'THE', 'LAZY', 'DOG']\n",
      "['the', 'quick', 'brown', 'fox', 'jumps', 'over', 'the', 'lazy', 'dog']\n",
      "[3, 5, 5, 3, 5, 4, 3, 4, 3]\n",
      "[['THE', 'the', 3], ['QUICK', 'quick', 5], ['BROWN', 'brown', 5], ['FOX', 'fox', 3], ['JUMPS', 'jumps', 5], ['OVER', 'over', 4], ['THE', 'the', 3], ['LAZY', 'lazy', 4], ['DOG', 'dog', 3]]\n",
      "['quick', 'brown', 'jumps', 'over', 'lazy']\n"
     ]
    }
   ],
   "source": [
    "# Answer 9\n",
    "\n",
    "words = ['The', 'quick', 'brown', 'fox', 'jumps', 'over', 'the', 'lazy', 'dog'] # Creating the array\n",
    "\n",
    "# Creating empty array to store \n",
    "capital = []\n",
    "small = []\n",
    "count = []\n",
    "arrayInArray = []\n",
    "fourPlusChar = []\n",
    "\n",
    "# Getting UpperCase for every word\n",
    "for a in words:\n",
    "    capital.append(a.upper())\n",
    "print(capital)\n",
    "\n",
    "# Getting LowerCase for every word\n",
    "for a in words:\n",
    "    small.append(a.lower())\n",
    "print(small)\n",
    "\n",
    "# Count for each word\n",
    "for a in words:\n",
    "    count.append(len(a))\n",
    "print(count)\n",
    "\n",
    "# Every word in Upper, Lower and count together\n",
    "for index, a in enumerate(capital):\n",
    "    arrayInArray.append([a, small[index], count[index]])\n",
    "print(arrayInArray)\n",
    "\n",
    "#Word with more than 4 characters\n",
    "for a in words:\n",
    "    if(len(a) >= 4):\n",
    "        fourPlusChar.append(a)\n",
    "print(fourPlusChar)\n",
    "\n"
   ]
  },
  {
   "cell_type": "markdown",
   "id": "64008d02",
   "metadata": {},
   "source": [
    "Question 8 SQL queries\n",
    "\n",
    "Write SQL queries on the below database table that return:\n",
    "\n",
    "a) All the temperature data.\n",
    "\n",
    "b) All the cities, but without repetition.\n",
    "\n",
    "c) All the records for India.\n",
    "\n",
    "d) All the Fall records.\n",
    "\n",
    "e) The city, country, and season for which the average rainfall is between 200 \n",
    "and 400 millimeters.\n",
    "\n",
    "f) The city and country for which the average Fall temperature is above 20 \n",
    "degrees, in increasing temperature order.\n",
    "\n",
    "g) The total annual rainfall for Cairo.\n",
    "\n",
    "h) The total rainfall for each season."
   ]
  },
  {
   "cell_type": "code",
   "execution_count": 28,
   "id": "9ded3540",
   "metadata": {},
   "outputs": [],
   "source": [
    "# Answer 8  SQL\n",
    "\n",
    "\n",
    "import sqlite3\n",
    "connect = sqlite3.connect('test1')\n",
    "c = connect.cursor()\n"
   ]
  },
  {
   "cell_type": "code",
   "execution_count": 29,
   "id": "0664fee4",
   "metadata": {},
   "outputs": [
    {
     "data": {
      "text/plain": [
       "<sqlite3.Cursor at 0x2112844b1f0>"
      ]
     },
     "execution_count": 29,
     "metadata": {},
     "output_type": "execute_result"
    }
   ],
   "source": [
    "c.execute('''CREATE TABLE dataOfCities (city TEXT NOT NULL, country TEXT NOT NULL, season TEXT NOT NULL, temperature INTEGER NOT NULL, rainfall INTEGER NOT NULL)''')\n"
   ]
  },
  {
   "cell_type": "code",
   "execution_count": 31,
   "id": "5bbac833",
   "metadata": {},
   "outputs": [],
   "source": [
    "c.execute(\"INSERT INTO dataOfCities VALUES ('Mumbai', 'India', 'Winter', 24.8, 5.9)\")\n",
    "c.execute(\"INSERT INTO dataOfCities VALUES ('Mumbai', 'India', 'Spring', 28.4, 16.2)\")\n",
    "c.execute(\"INSERT INTO dataOfCities VALUES ('Mumbai', 'India', 'Summer', 27.9, 1549.2)\")\n",
    "c.execute(\"INSERT INTO dataOfCities VALUES ('Mumbai', 'India', 'Fall', 27.6, 346.0)\")\n",
    "c.execute(\"INSERT INTO dataOfCities VALUES ('London', 'United Kingdom', 'Winter', 4.2, 207.7)\")\n",
    "c.execute(\"INSERT INTO dataOfCities VALUES ('London', 'United Kingdom', 'Spring', 8.3, 169.6)\")\n",
    "c.execute(\"INSERT INTO dataOfCities VALUES ('London', 'United Kingdom', 'Summer', 15.7, 157.0)\")\n",
    "c.execute(\"INSERT INTO dataOfCities VALUES ('London', 'United Kingdom', 'Fall', 10.4, 218.5)\")\n",
    "\n",
    "c.execute(\"INSERT INTO dataOfCities VALUES ('Cairo', 'Egypt', 'Winter', 13.6, 16.5)\")\n",
    "c.execute(\"INSERT INTO dataOfCities VALUES ('Cairo', 'Egypt', 'Spring', 20.7, 6.5)\")\n",
    "c.execute(\"INSERT INTO dataOfCities VALUES ('Cairo', 'Egypt', 'Summer', 27.7, 0.1)\")\n",
    "c.execute(\"INSERT INTO dataOfCities VALUES ('Cairo', 'Egypt', 'Fall', 22.2, 4.5)\")\n",
    "connect.commit()\n"
   ]
  },
  {
   "cell_type": "code",
   "execution_count": 65,
   "id": "84823d57",
   "metadata": {},
   "outputs": [
    {
     "name": "stdout",
     "output_type": "stream",
     "text": [
      "24.8\n",
      "28.4\n",
      "27.9\n",
      "27.6\n",
      "4.2\n",
      "8.3\n",
      "15.7\n",
      "10.4\n",
      "13.6\n",
      "20.7\n",
      "27.7\n",
      "22.2\n"
     ]
    }
   ],
   "source": [
    "# a) All the temperature data\n",
    "\n",
    "c.execute(\"SELECT temperature FROM dataOfCities\")\n",
    "\n",
    "# fetching all rows using fetchall() method\n",
    "rows = c.fetchall()\n",
    "\n",
    "# printing each temperature value using a loop\n",
    "for row in rows:\n",
    "    print(row[0])\n",
    "\n"
   ]
  },
  {
   "cell_type": "code",
   "execution_count": 66,
   "id": "046588ab",
   "metadata": {},
   "outputs": [
    {
     "name": "stdout",
     "output_type": "stream",
     "text": [
      "Mumbai\n",
      "London\n",
      "Cairo\n"
     ]
    }
   ],
   "source": [
    "# b) All the cities, but without repetition.\n",
    "\n",
    "c.execute(\"SELECT DISTINCT city FROM dataOfCities\")\n",
    "\n",
    "# fetching all rows using fetchall() method\n",
    "rows = c.fetchall()\n",
    "\n",
    "# printing each temperature value using a loop\n",
    "for row in rows:\n",
    "    print(row[0])"
   ]
  },
  {
   "cell_type": "code",
   "execution_count": 63,
   "id": "38df33eb",
   "metadata": {},
   "outputs": [
    {
     "name": "stdout",
     "output_type": "stream",
     "text": [
      "('Mumbai', 'India', 'Winter', 24.8, 5.9)\n",
      "('Mumbai', 'India', 'Spring', 28.4, 16.2)\n",
      "('Mumbai', 'India', 'Summer', 27.9, 1549.2)\n",
      "('Mumbai', 'India', 'Fall', 27.6, 346)\n"
     ]
    }
   ],
   "source": [
    "# c) All the records for India.\n",
    "\n",
    "c.execute(\"SELECT * FROM dataOfCities WHERE country='India'\")\n",
    "\n",
    "# fetching all rows using fetchall() method\n",
    "rows = c.fetchall()\n",
    "\n",
    "# printing each temperature value using a loop\n",
    "for row in rows:\n",
    "    print(row)"
   ]
  },
  {
   "cell_type": "code",
   "execution_count": 69,
   "id": "5ceec974",
   "metadata": {},
   "outputs": [
    {
     "name": "stdout",
     "output_type": "stream",
     "text": [
      "('Mumbai', 'India', 'Fall', 27.6, 346)\n",
      "('London', 'United Kingdom', 'Fall', 10.4, 218.5)\n",
      "('Cairo', 'Egypt', 'Fall', 22.2, 4.5)\n"
     ]
    }
   ],
   "source": [
    "# d) All the Fall records.\n",
    "\n",
    "c.execute(\"SELECT * FROM dataOfCities WHERE season='Fall'\")\n",
    "\n",
    "# fetching all rows using fetchall() method\n",
    "rows = c.fetchall()\n",
    "\n",
    "# printing each temperature value using a loop\n",
    "for row in rows:\n",
    "    print(row)"
   ]
  },
  {
   "cell_type": "code",
   "execution_count": 41,
   "id": "aa650eff",
   "metadata": {},
   "outputs": [
    {
     "name": "stdout",
     "output_type": "stream",
     "text": [
      "('London', 'United Kingdom', 'Fall')\n",
      "('London', 'United Kingdom', 'Winter')\n",
      "('Mumbai', 'India', 'Fall')\n"
     ]
    }
   ],
   "source": [
    "# e) The city, country, and season for which the average rainfall is between 200 \n",
    "and 400 millimeters.\n",
    "\n",
    "c.execute(\"SELECT city, country, season FROM dataOfCities GROUP BY city, country, season HAVING AVG(rainfall) BETWEEN 200 AND 400\")\n",
    "\n",
    "# fetch all rows using fetchall() method\n",
    "rows = c.fetchall()\n",
    "\n",
    "# print each temperature value using a loop\n",
    "for row in rows:\n",
    "    print(row)"
   ]
  },
  {
   "cell_type": "code",
   "execution_count": 62,
   "id": "b2d81f1e",
   "metadata": {},
   "outputs": [
    {
     "name": "stdout",
     "output_type": "stream",
     "text": [
      "('Cairo', 'Egypt')\n",
      "('Mumbai', 'India')\n"
     ]
    }
   ],
   "source": [
    "# f) The city and country for which the average Fall temperature is above 20  degrees, in increasing temperature order.\n",
    "\n",
    "c.execute(\"SELECT city, country FROM dataOfCities WHERE season='Fall' GROUP BY city, country HAVING AVG(temperature) > 20 ORDER BY AVG(temperature) ASC\")\n",
    "\n",
    "# fetch all rows using fetchall() method\n",
    "rows = c.fetchall()\n",
    "\n",
    "# print each temperature value using a loop\n",
    "for row in rows:\n",
    "    print(row)"
   ]
  },
  {
   "cell_type": "code",
   "execution_count": 61,
   "id": "0c2c6725",
   "metadata": {},
   "outputs": [
    {
     "name": "stdout",
     "output_type": "stream",
     "text": [
      "The Total Rainfall in Cairo is:  27.6\n"
     ]
    }
   ],
   "source": [
    "# g) The total annual rainfall for Cairo.\n",
    "\n",
    "c.execute(\"SELECT SUM(rainfall) FROM dataOfCities WHERE city='Cairo'\")\n",
    "\n",
    "totalRainfall = c.fetchone()\n",
    "print(\"The Total Rainfall in Cairo is: \", totalRainfall[0])"
   ]
  },
  {
   "cell_type": "code",
   "execution_count": 68,
   "id": "7fd15c3d",
   "metadata": {},
   "outputs": [
    {
     "name": "stdout",
     "output_type": "stream",
     "text": [
      "Total rainfall for Fall season: 569.0\n",
      "Total rainfall for Spring season: 192.29999999999998\n",
      "Total rainfall for Summer season: 1706.3\n",
      "Total rainfall for Winter season: 230.1\n"
     ]
    }
   ],
   "source": [
    "# h) The total rainfall for each season.\n",
    "\n",
    "c.execute(\"SELECT season, SUM(rainfall) FROM dataOfCities GROUP BY season\")\n",
    "\n",
    "# fetch all rows using fetchall() method\n",
    "rows = c.fetchall()\n",
    "\n",
    "# print the total rainfall for each season\n",
    "for row in rows:\n",
    "    print(\"Total rainfall for\", row[0], \"season:\", row[1])"
   ]
  },
  {
   "cell_type": "code",
   "execution_count": 67,
   "id": "5f544078",
   "metadata": {},
   "outputs": [
    {
     "name": "stdout",
     "output_type": "stream",
     "text": [
      "('Mumbai', 'India', 'Winter', 24.8, 5.9)\n",
      "('Mumbai', 'India', 'Spring', 28.4, 16.2)\n",
      "('Mumbai', 'India', 'Summer', 27.9, 1549.2)\n",
      "('Mumbai', 'India', 'Fall', 27.6, 346)\n",
      "('London', 'United Kingdom', 'Winter', 4.2, 207.7)\n",
      "('London', 'United Kingdom', 'Spring', 8.3, 169.6)\n",
      "('London', 'United Kingdom', 'Summer', 15.7, 157)\n",
      "('London', 'United Kingdom', 'Fall', 10.4, 218.5)\n",
      "('Cairo', 'Egypt', 'Winter', 13.6, 16.5)\n",
      "('Cairo', 'Egypt', 'Spring', 20.7, 6.5)\n",
      "('Cairo', 'Egypt', 'Summer', 27.7, 0.1)\n",
      "('Cairo', 'Egypt', 'Fall', 22.2, 4.5)\n"
     ]
    }
   ],
   "source": [
    "# Fetching all the data from the database dataOfCities for selfcheck(reference)\n",
    "\n",
    "c.execute(\"SELECT * FROM dataOfCities\")\n",
    "\n",
    "# fetch all rows using fetchall() method\n",
    "rows = c.fetchall()\n",
    "\n",
    "# print each temperature value using a loop\n",
    "for row in rows:\n",
    "    print(row)"
   ]
  }
 ],
 "metadata": {
  "kernelspec": {
   "display_name": "Python 3 (ipykernel)",
   "language": "python",
   "name": "python3"
  },
  "language_info": {
   "codemirror_mode": {
    "name": "ipython",
    "version": 3
   },
   "file_extension": ".py",
   "mimetype": "text/x-python",
   "name": "python",
   "nbconvert_exporter": "python",
   "pygments_lexer": "ipython3",
   "version": "3.9.13"
  }
 },
 "nbformat": 4,
 "nbformat_minor": 5
}
